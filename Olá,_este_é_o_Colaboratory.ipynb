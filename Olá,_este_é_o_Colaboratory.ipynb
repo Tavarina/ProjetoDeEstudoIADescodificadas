{
  "cells": [
    {
      "cell_type": "markdown",
      "metadata": {
        "id": "view-in-github",
        "colab_type": "text"
      },
      "source": [
        "<a href=\"https://colab.research.google.com/github/Tavarina/ProjetoDeEstudoIADescodificadas/blob/main/Ol%C3%A1%2C_este_%C3%A9_o_Colaboratory.ipynb\" target=\"_parent\"><img src=\"https://colab.research.google.com/assets/colab-badge.svg\" alt=\"Open In Colab\"/></a>"
      ]
    },
    {
      "cell_type": "markdown",
      "source": [],
      "metadata": {
        "id": "FNlYoncKVSup"
      }
    },
    {
      "cell_type": "code",
      "source": [
        "# Lista de palavras básicas em português e suas traduções em coreano\n",
        "palavras = {\n",
        "    \"olá\": \"안녕하세요 (annyeonghaseyo)\",\n",
        "    \"obrigado\": \"감사합니다 (gamsahamnida)\",\n",
        "    \"sim\": \"네 (ne)\",\n",
        "    \"não\": \"아니요 (aniyo)\",\n",
        "    \"por favor\": \"제발 (jebal)\",\n",
        "    \"desculpa\": \"미안합니다 (mianhamnida)\",\n",
        "    \"água\": \"물 (mul)\",\n",
        "    \"comida\": \"음식 (eumsik)\",\n",
        "    \"bom dia\": \"좋은 아침 (joheun achim)\",\n",
        "    \"noite\": \"밤 (bam)\"\n",
        "}\n",
        "\n",
        "# Função para treinar palavras\n",
        "def treinar_palavras():\n",
        "    print(\"Bem-vindo ao treino de palavras básicas em coreano!\")\n",
        "    for palavra_portugues, palavra_coreano in palavras.items():\n",
        "        resposta = input(f\"Como se diz '{palavra_portugues}' em coreano? \")\n",
        "        print(f\"A resposta correta é: {palavra_coreano}\\n\")\n",
        "\n",
        "    print(\"Treino finalizado! Continue praticando!\")\n",
        "\n",
        "# Chamar a função para começar o treino\n",
        "treinar_palavras()\n"
      ],
      "metadata": {
        "colab": {
          "base_uri": "https://localhost:8080/"
        },
        "id": "PpBA5gwnd_DO",
        "outputId": "d1eaa8f0-3f82-4a5b-85e6-af672b8551eb"
      },
      "execution_count": null,
      "outputs": [
        {
          "output_type": "stream",
          "name": "stdout",
          "text": [
            "Bem-vindo ao treino de palavras básicas em coreano!\n",
            "Como se diz 'olá' em coreano? 1\n",
            "A resposta correta é: 안녕하세요 (annyeonghaseyo)\n",
            "\n"
          ]
        }
      ]
    }
  ],
  "metadata": {
    "colab": {
      "name": "Olá, este é o Colaboratory",
      "toc_visible": true,
      "provenance": [],
      "include_colab_link": true
    },
    "kernelspec": {
      "display_name": "Python 3",
      "name": "python3"
    }
  },
  "nbformat": 4,
  "nbformat_minor": 0
}